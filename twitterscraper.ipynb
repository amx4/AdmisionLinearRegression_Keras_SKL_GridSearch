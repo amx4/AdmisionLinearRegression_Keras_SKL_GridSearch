{
 "cells": [
  {
   "cell_type": "markdown",
   "id": "9bb6e52c",
   "metadata": {
    "papermill": {
     "duration": 0.009758,
     "end_time": "2022-08-21T16:37:33.740433",
     "exception": false,
     "start_time": "2022-08-21T16:37:33.730675",
     "status": "completed"
    },
    "tags": []
   },
   "source": [
    "## Add necessary packages"
   ]
  },
  {
   "cell_type": "code",
   "execution_count": 1,
   "id": "4229ebb5",
   "metadata": {
    "execution": {
     "iopub.execute_input": "2022-08-21T16:37:33.754463Z",
     "iopub.status.busy": "2022-08-21T16:37:33.753755Z",
     "iopub.status.idle": "2022-08-21T16:38:00.921483Z",
     "shell.execute_reply": "2022-08-21T16:38:00.920042Z"
    },
    "papermill": {
     "duration": 27.17789,
     "end_time": "2022-08-21T16:38:00.924279",
     "exception": false,
     "start_time": "2022-08-21T16:37:33.746389",
     "status": "completed"
    },
    "tags": []
   },
   "outputs": [
    {
     "name": "stdout",
     "output_type": "stream",
     "text": [
      "Collecting snscrape\r\n",
      "  Downloading snscrape-0.3.4-py3-none-any.whl (35 kB)\r\n",
      "Requirement already satisfied: beautifulsoup4 in /opt/conda/lib/python3.7/site-packages (from snscrape) (4.11.1)\r\n",
      "Requirement already satisfied: requests[socks] in /opt/conda/lib/python3.7/site-packages (from snscrape) (2.27.1)\r\n",
      "Requirement already satisfied: lxml in /opt/conda/lib/python3.7/site-packages (from snscrape) (4.8.0)\r\n",
      "Requirement already satisfied: soupsieve>1.2 in /opt/conda/lib/python3.7/site-packages (from beautifulsoup4->snscrape) (2.3.1)\r\n",
      "Requirement already satisfied: charset-normalizer~=2.0.0 in /opt/conda/lib/python3.7/site-packages (from requests[socks]->snscrape) (2.0.12)\r\n",
      "Requirement already satisfied: idna<4,>=2.5 in /opt/conda/lib/python3.7/site-packages (from requests[socks]->snscrape) (3.3)\r\n",
      "Requirement already satisfied: urllib3<1.27,>=1.21.1 in /opt/conda/lib/python3.7/site-packages (from requests[socks]->snscrape) (1.26.9)\r\n",
      "Requirement already satisfied: certifi>=2017.4.17 in /opt/conda/lib/python3.7/site-packages (from requests[socks]->snscrape) (2022.5.18.1)\r\n",
      "Requirement already satisfied: PySocks!=1.5.7,>=1.5.6 in /opt/conda/lib/python3.7/site-packages (from requests[socks]->snscrape) (1.7.1)\r\n",
      "Installing collected packages: snscrape\r\n",
      "Successfully installed snscrape-0.3.4\r\n",
      "\u001b[33mWARNING: Running pip as the 'root' user can result in broken permissions and conflicting behaviour with the system package manager. It is recommended to use a virtual environment instead: https://pip.pypa.io/warnings/venv\u001b[0m\u001b[33m\r\n",
      "\u001b[0mCollecting langdetect\r\n",
      "  Downloading langdetect-1.0.9.tar.gz (981 kB)\r\n",
      "\u001b[2K     \u001b[90m━━━━━━━━━━━━━━━━━━━━━━━━━━━━━━━━━━━━━━━\u001b[0m \u001b[32m981.5/981.5 kB\u001b[0m \u001b[31m3.6 MB/s\u001b[0m eta \u001b[36m0:00:00\u001b[0m\r\n",
      "\u001b[?25h  Preparing metadata (setup.py) ... \u001b[?25l-\b \bdone\r\n",
      "\u001b[?25hRequirement already satisfied: six in /opt/conda/lib/python3.7/site-packages (from langdetect) (1.16.0)\r\n",
      "Building wheels for collected packages: langdetect\r\n",
      "  Building wheel for langdetect (setup.py) ... \u001b[?25l-\b \b\\\b \b|\b \b/\b \b-\b \bdone\r\n",
      "\u001b[?25h  Created wheel for langdetect: filename=langdetect-1.0.9-py3-none-any.whl size=993242 sha256=1cd511c931c56e9836e49b6d17b16f68a851b0af33fc206ad0fa1ada16fc7a6c\r\n",
      "  Stored in directory: /root/.cache/pip/wheels/c5/96/8a/f90c59ed25d75e50a8c10a1b1c2d4c402e4dacfa87f3aff36a\r\n",
      "Successfully built langdetect\r\n",
      "Installing collected packages: langdetect\r\n",
      "Successfully installed langdetect-1.0.9\r\n",
      "\u001b[33mWARNING: Running pip as the 'root' user can result in broken permissions and conflicting behaviour with the system package manager. It is recommended to use a virtual environment instead: https://pip.pypa.io/warnings/venv\u001b[0m\u001b[33m\r\n",
      "\u001b[0m"
     ]
    }
   ],
   "source": [
    "#!pip install snscrape\n",
    "!pip3 install snscrape\n",
    "!pip install langdetect"
   ]
  },
  {
   "cell_type": "code",
   "execution_count": 2,
   "id": "27082d19",
   "metadata": {
    "execution": {
     "iopub.execute_input": "2022-08-21T16:38:00.941527Z",
     "iopub.status.busy": "2022-08-21T16:38:00.941017Z",
     "iopub.status.idle": "2022-08-21T16:38:01.304269Z",
     "shell.execute_reply": "2022-08-21T16:38:01.303194Z"
    },
    "id": "ObmivWrI3LEX",
    "papermill": {
     "duration": 0.375278,
     "end_time": "2022-08-21T16:38:01.307003",
     "exception": false,
     "start_time": "2022-08-21T16:38:00.931725",
     "status": "completed"
    },
    "tags": []
   },
   "outputs": [],
   "source": [
    "from snscrape.modules import twitter as sntwitter\n",
    "import pandas as pd\n",
    "import datetime\n",
    "import matplotlib.pyplot as plt\n",
    "from langdetect import detect_langs\n",
    "from tqdm.notebook import tqdm\n",
    "import os\n",
    "from IPython.display import FileLink\n",
    "import json"
   ]
  },
  {
   "cell_type": "code",
   "execution_count": 3,
   "id": "2e646621",
   "metadata": {
    "execution": {
     "iopub.execute_input": "2022-08-21T16:38:01.324162Z",
     "iopub.status.busy": "2022-08-21T16:38:01.323611Z",
     "iopub.status.idle": "2022-08-21T16:38:01.350034Z",
     "shell.execute_reply": "2022-08-21T16:38:01.348923Z"
    },
    "papermill": {
     "duration": 0.038594,
     "end_time": "2022-08-21T16:38:01.352985",
     "exception": false,
     "start_time": "2022-08-21T16:38:01.314391",
     "status": "completed"
    },
    "tags": []
   },
   "outputs": [],
   "source": [
    "class HateTweetsScraper:\n",
    "    def __init__(self, query = '', limit=None, start_date = None, end_date = None):\n",
    "        ''' \n",
    "        Class for mining and saving the hate tweets in a csv.\n",
    "        Input :\n",
    "            Query : query to be searched\n",
    "            Limit : max. np. of tweets to search\n",
    "        start date and end date : timeframe of the tweets to be mined, default yesterday and today resp.\n",
    "\n",
    "        '''\n",
    "        # initializing dates :\n",
    "        self.curr_date = datetime.datetime.now().date()\n",
    "        self.yest_date = self.curr_date - datetime.timedelta(days = 1)\n",
    "        if start_date is None:\n",
    "            self.start_date = self.yest_date\n",
    "            print(\"start date is not given, yesterday date is being used : \",self.start_date)\n",
    "        else :\n",
    "            self.start_date = start_date        \n",
    "        if end_date is None:\n",
    "            self.end_date = self.start_date + datetime.timedelta(days = 1)\n",
    "            print(\"end date is not given, start date + 1 is being used\", self.end_date)\n",
    "        else:\n",
    "            self.end_date = end_date\n",
    "        #Initializing query and max no. of tweets to be mined:\n",
    "        if query is None or query =='':\n",
    "            self.query2 = 'मुल्ला OR मुल्ले OR मुल्लों OR कटवा OR कटुवा OR कटुआ OR क2आ OR क2वा OR मुल्ली'+ f' until:{self.end_date} since:{self.start_date}'\n",
    "        else:\n",
    "            self.query2 = query #default query\n",
    "        self.ts = datetime.datetime.now().strftime('%Y%m%d%H%M%S')\n",
    "        if limit is None:\n",
    "            self.limit = 50000\n",
    "        else:\n",
    "            self.limit = limit\n",
    "\n",
    "\n",
    "    @staticmethod\n",
    "    def make_dict(t, conf):\n",
    "        '''method to create a dict from\n",
    "        input : tweet object, confidence\n",
    "        output : dict'''\n",
    "        usrnm = ''\n",
    "        try :\n",
    "            usrnm = t.user.username\n",
    "        except AttributeError:\n",
    "            usrnm = t.username\n",
    "        di = {\n",
    "                        \"ID\": t.id,\n",
    "                        \"date\" : t.date,\n",
    "                        \"content\" : t.content,\n",
    "                        \"username\": usrnm,\n",
    "                        \"URL\": t.url,\n",
    "                        \"outlinks\" : t.outlinks, \n",
    "                        \"outlinksss\": t.outlinks,\n",
    "                        \"tcooutlinks\" : t.tcooutlinks,\n",
    "                        \"tcooutlinksss\" : t.tcooutlinks,\n",
    "                        \"confident\" : conf\n",
    "                    }\n",
    "        return di\n",
    "    @staticmethod\n",
    "    def verify(tweets):\n",
    "        '''\n",
    "        method to verify lang of the tweets\n",
    "        and provide a hardcoded confidence score and returns a dataframe.\n",
    "        for reference :\n",
    "        {\n",
    "        foriegn lang : 0,\n",
    "        hindi : 1,\n",
    "        query in username : 2\n",
    "        error : 3\n",
    "        }'''\n",
    "        un_list = t_list = []\n",
    "        h = qiu = f = e = result = conf = 0\n",
    "        fore_langs = ['fi', 'in', 'ar', 'it']\n",
    "        query_langs = ['hi', 'en']\n",
    "        usn = [\"Mulla\",\"mulla\", 'mullah']\n",
    "        \n",
    "        for t in tweets:\n",
    "            #print(type(t))\n",
    "            try:\n",
    "                lang = str(detect_langs(t.content)[0])[:2]\n",
    "            except Exception as e:\n",
    "                print(e)\n",
    "                result = 3\n",
    "            if lang in fore_langs or lang != 'hi' :\n",
    "                f = f+1\n",
    "                result =1;\n",
    "                conf = 0\n",
    "            elif lang == 'hi':\n",
    "                h = h+1\n",
    "                result = 1\n",
    "                conf = 1\n",
    "            else:\n",
    "                if t.user.username in usn:\n",
    "                    un_list.append(t.user.username)\n",
    "                    result = 2\n",
    "                    conf = 0\n",
    "                else:\n",
    "                    result = conf = 1\n",
    "            if result == 0:\n",
    "                pass\n",
    "            elif result == 1:\n",
    "                temp = HateTweetsScraper.make_dict(t, conf) \n",
    "                t_list.append(temp)\n",
    "            elif result == 2:\n",
    "                qiu = qiu +1\n",
    "                conf = 0\n",
    "                temp = HateTweetsScraper.make_dict(t, conf)\n",
    "                t_list.append(temp)\n",
    "            elif result == 3:\n",
    "                e = e+1\n",
    "                pass\n",
    "        print(40*\"=-\")\n",
    "        print(f\"detected total {len(tweets)} tweets, {f} foriegn Language tweets, {h} hindi tweets, {e} errors and {qiu} account name matches.\")\n",
    "        print(40*\"=-\")\n",
    "        print(f\"Saving {len(t_list)} verified tweets.\")\n",
    "        df = pd.DataFrame(t_list)\n",
    "        return df \n",
    "    \n",
    "    @staticmethod\n",
    "    def write_log(logs):\n",
    "        '''\n",
    "        method for creating log file/s\n",
    "        '''\n",
    "        filename = f'log.json'\n",
    "        with open(filename, \"+a\") as fp:\n",
    "            json.dump(logs, fp)    \n",
    "            fp.write(\",/n\")\n",
    "        fp.close()\n",
    "        #without timestamp in name of logs\n",
    "        print(f\"Without TS: Log saved in {filename}.\\n\", logs)        \n",
    "        '''ts = logs['Timestamp']\n",
    "        filename = f'log_{ts}.json'\n",
    "        with open(filename, \"+a\") as fp:\n",
    "            json.dump(logs, fp)    \n",
    "            fp.write(\",/n\")\n",
    "        fp.close()\n",
    "        print(f\"Log saved in {filename}.\\n\", logs)'''\n",
    "        \n",
    "    def get_tweets(self):\n",
    "        ''' Fn to get tweets.\n",
    "        query = 'query', limit = 50000\n",
    "        takes : query text as string, limit of max number of tweets as int\n",
    "        returns : list of tweet objects'''\n",
    "        \n",
    "        query = self.query2\n",
    "        limit = self.limit\n",
    "        print('get query and limit', query, limit)\n",
    "        conf = 0   # Init. cpnfidence as 0\n",
    "        global tweets\n",
    "        tweets = []\n",
    "        \n",
    "        gen = sntwitter.TwitterSearchScraper(query).get_items()\n",
    "        for tweet in tqdm(gen, total = limit) :\n",
    "            # print(vars(tweet))\n",
    "            # break\n",
    "            if len(tweets) == limit:\n",
    "                print(f\"Limit of {limit} tweets reached.\")\n",
    "                break\n",
    "            else:\n",
    "                tweets.append(tweet)      \n",
    "        print(f\"mined {len(tweets)} tweets.\")   \n",
    "        return tweets\n",
    "\n",
    "    def save_data(self):\n",
    "        '''method for saving data\n",
    "        takes input : tweets list\n",
    "        verifies each tweet then saves it in .csv and json logs.\n",
    "        returnd : dataframe'''\n",
    "\n",
    "        df = HateTweetsScraper.verify(tweets)\n",
    "        #print(df.head())\n",
    "        fname = f\"output_{self.start_date}_{self.end_date}_{self.ts}.csv\"\n",
    "        df.to_csv(fname)\n",
    "        # log dictionary\n",
    "        logs = {\n",
    "            \"Timestamp\": self.ts,\n",
    "            \"extraction_date\" : str(self.curr_date),\n",
    "            \"filename\" : fname, \n",
    "            \"start_date\": str(self.start_date), \n",
    "            \"end_date\" : str(self.end_date),\n",
    "            \"no_of_tweets\" : df.shape[0]\n",
    "        }    \n",
    "        HateTweetsScraper.write_log(logs)\n",
    "        return df\n",
    "        \n",
    "\n"
   ]
  },
  {
   "cell_type": "code",
   "execution_count": 4,
   "id": "0e6d5854",
   "metadata": {
    "execution": {
     "iopub.execute_input": "2022-08-21T16:38:01.370205Z",
     "iopub.status.busy": "2022-08-21T16:38:01.369720Z",
     "iopub.status.idle": "2022-08-21T16:38:10.508686Z",
     "shell.execute_reply": "2022-08-21T16:38:10.506961Z"
    },
    "papermill": {
     "duration": 9.150478,
     "end_time": "2022-08-21T16:38:10.511182",
     "exception": false,
     "start_time": "2022-08-21T16:38:01.360704",
     "status": "completed"
    },
    "tags": []
   },
   "outputs": [
    {
     "name": "stdout",
     "output_type": "stream",
     "text": [
      "start date is not given, yesterday date is being used :  2022-08-20\n",
      "end date is not given, start date + 1 is being used 2022-08-21\n",
      "get query and limit मुल्ला OR मुल्ले OR मुल्लों OR कटवा OR कटुवा OR कटुआ OR क2आ OR क2वा OR मुल्ली until:2022-08-21 since:2022-08-20 50000\n"
     ]
    },
    {
     "data": {
      "application/vnd.jupyter.widget-view+json": {
       "model_id": "0392145808394eae8a964633c445e3af",
       "version_major": 2,
       "version_minor": 0
      },
      "text/plain": [
       "  0%|          | 0/50000 [00:00<?, ?it/s]"
      ]
     },
     "metadata": {},
     "output_type": "display_data"
    },
    {
     "name": "stdout",
     "output_type": "stream",
     "text": [
      "mined 335 tweets.\n",
      "=-=-=-=-=-=-=-=-=-=-=-=-=-=-=-=-=-=-=-=-=-=-=-=-=-=-=-=-=-=-=-=-=-=-=-=-=-=-=-=-\n",
      "detected total 335 tweets, 43 foriegn Language tweets, 292 hindi tweets, 0 errors and 0 account name matches.\n",
      "=-=-=-=-=-=-=-=-=-=-=-=-=-=-=-=-=-=-=-=-=-=-=-=-=-=-=-=-=-=-=-=-=-=-=-=-=-=-=-=-\n",
      "Saving 335 verified tweets.\n",
      "Without TS: Log saved in log.json.\n",
      " {'Timestamp': '20220821163801', 'extraction_date': '2022-08-21', 'filename': 'output_2022-08-20_2022-08-21_20220821163801.csv', 'start_date': '2022-08-20', 'end_date': '2022-08-21', 'no_of_tweets': 335}\n"
     ]
    },
    {
     "data": {
      "text/html": [
       "<div>\n",
       "<style scoped>\n",
       "    .dataframe tbody tr th:only-of-type {\n",
       "        vertical-align: middle;\n",
       "    }\n",
       "\n",
       "    .dataframe tbody tr th {\n",
       "        vertical-align: top;\n",
       "    }\n",
       "\n",
       "    .dataframe thead th {\n",
       "        text-align: right;\n",
       "    }\n",
       "</style>\n",
       "<table border=\"1\" class=\"dataframe\">\n",
       "  <thead>\n",
       "    <tr style=\"text-align: right;\">\n",
       "      <th></th>\n",
       "      <th>ID</th>\n",
       "      <th>date</th>\n",
       "      <th>content</th>\n",
       "      <th>username</th>\n",
       "      <th>URL</th>\n",
       "      <th>outlinks</th>\n",
       "      <th>outlinksss</th>\n",
       "      <th>tcooutlinks</th>\n",
       "      <th>tcooutlinksss</th>\n",
       "      <th>confident</th>\n",
       "    </tr>\n",
       "  </thead>\n",
       "  <tbody>\n",
       "    <tr>\n",
       "      <th>0</th>\n",
       "      <td>1561137764829372416</td>\n",
       "      <td>2022-08-20 23:47:02+00:00</td>\n",
       "      <td>@chitraaum अतुलानंद से पूछ लिया है।नहीं तो कम ...</td>\n",
       "      <td>VinodKu04217358</td>\n",
       "      <td>https://twitter.com/VinodKu04217358/status/156...</td>\n",
       "      <td>[]</td>\n",
       "      <td>[]</td>\n",
       "      <td>[]</td>\n",
       "      <td>[]</td>\n",
       "      <td>1</td>\n",
       "    </tr>\n",
       "    <tr>\n",
       "      <th>1</th>\n",
       "      <td>1561136175875624960</td>\n",
       "      <td>2022-08-20 23:40:43+00:00</td>\n",
       "      <td>@Ajashutoshjha @chandaj29710249 @JhaAjitk ये प...</td>\n",
       "      <td>kamalKantmishra</td>\n",
       "      <td>https://twitter.com/kamalKantmishra/status/156...</td>\n",
       "      <td>[]</td>\n",
       "      <td>[]</td>\n",
       "      <td>[]</td>\n",
       "      <td>[]</td>\n",
       "      <td>1</td>\n",
       "    </tr>\n",
       "    <tr>\n",
       "      <th>2</th>\n",
       "      <td>1561132680007168000</td>\n",
       "      <td>2022-08-20 23:26:50+00:00</td>\n",
       "      <td>@ShuebKh16859893 @Lovely92698976 असली भक्त तो ...</td>\n",
       "      <td>sanjeevkmax</td>\n",
       "      <td>https://twitter.com/sanjeevkmax/status/1561132...</td>\n",
       "      <td>[]</td>\n",
       "      <td>[]</td>\n",
       "      <td>[]</td>\n",
       "      <td>[]</td>\n",
       "      <td>1</td>\n",
       "    </tr>\n",
       "    <tr>\n",
       "      <th>3</th>\n",
       "      <td>1561090746887073792</td>\n",
       "      <td>2022-08-20 20:40:12+00:00</td>\n",
       "      <td>@ActivistSandeep कभी नहीं आएगी मुल्ला पार्टी ढ...</td>\n",
       "      <td>Arjunpa51223577</td>\n",
       "      <td>https://twitter.com/Arjunpa51223577/status/156...</td>\n",
       "      <td>[]</td>\n",
       "      <td>[]</td>\n",
       "      <td>[]</td>\n",
       "      <td>[]</td>\n",
       "      <td>1</td>\n",
       "    </tr>\n",
       "    <tr>\n",
       "      <th>4</th>\n",
       "      <td>1561080311521234945</td>\n",
       "      <td>2022-08-20 19:58:44+00:00</td>\n",
       "      <td>@anamikamber जिसने कटवा रखा हो...</td>\n",
       "      <td>highspirithero</td>\n",
       "      <td>https://twitter.com/highspirithero/status/1561...</td>\n",
       "      <td>[]</td>\n",
       "      <td>[]</td>\n",
       "      <td>[]</td>\n",
       "      <td>[]</td>\n",
       "      <td>1</td>\n",
       "    </tr>\n",
       "  </tbody>\n",
       "</table>\n",
       "</div>"
      ],
      "text/plain": [
       "                    ID                      date  \\\n",
       "0  1561137764829372416 2022-08-20 23:47:02+00:00   \n",
       "1  1561136175875624960 2022-08-20 23:40:43+00:00   \n",
       "2  1561132680007168000 2022-08-20 23:26:50+00:00   \n",
       "3  1561090746887073792 2022-08-20 20:40:12+00:00   \n",
       "4  1561080311521234945 2022-08-20 19:58:44+00:00   \n",
       "\n",
       "                                             content         username  \\\n",
       "0  @chitraaum अतुलानंद से पूछ लिया है।नहीं तो कम ...  VinodKu04217358   \n",
       "1  @Ajashutoshjha @chandaj29710249 @JhaAjitk ये प...  kamalKantmishra   \n",
       "2  @ShuebKh16859893 @Lovely92698976 असली भक्त तो ...      sanjeevkmax   \n",
       "3  @ActivistSandeep कभी नहीं आएगी मुल्ला पार्टी ढ...  Arjunpa51223577   \n",
       "4                  @anamikamber जिसने कटवा रखा हो...   highspirithero   \n",
       "\n",
       "                                                 URL outlinks outlinksss  \\\n",
       "0  https://twitter.com/VinodKu04217358/status/156...       []         []   \n",
       "1  https://twitter.com/kamalKantmishra/status/156...       []         []   \n",
       "2  https://twitter.com/sanjeevkmax/status/1561132...       []         []   \n",
       "3  https://twitter.com/Arjunpa51223577/status/156...       []         []   \n",
       "4  https://twitter.com/highspirithero/status/1561...       []         []   \n",
       "\n",
       "  tcooutlinks tcooutlinksss  confident  \n",
       "0          []            []          1  \n",
       "1          []            []          1  \n",
       "2          []            []          1  \n",
       "3          []            []          1  \n",
       "4          []            []          1  "
      ]
     },
     "execution_count": 4,
     "metadata": {},
     "output_type": "execute_result"
    }
   ],
   "source": [
    "HT = HateTweetsScraper()\n",
    "tweets_list = HT.get_tweets()\n",
    "df = HT.save_data()\n",
    "df.head()"
   ]
  },
  {
   "cell_type": "markdown",
   "id": "7a76daa8",
   "metadata": {
    "papermill": {
     "duration": 0.007982,
     "end_time": "2022-08-21T16:38:10.527479",
     "exception": false,
     "start_time": "2022-08-21T16:38:10.519497",
     "status": "completed"
    },
    "tags": []
   },
   "source": [
    "# Old Code"
   ]
  },
  {
   "cell_type": "markdown",
   "id": "680bd737",
   "metadata": {
    "_kg_hide-input": true,
    "_kg_hide-output": true,
    "execution": {
     "iopub.execute_input": "2022-08-21T14:06:13.569853Z",
     "iopub.status.busy": "2022-08-21T14:06:13.569441Z",
     "iopub.status.idle": "2022-08-21T14:06:13.581606Z",
     "shell.execute_reply": "2022-08-21T14:06:13.580771Z",
     "shell.execute_reply.started": "2022-08-21T14:06:13.569821Z"
    },
    "papermill": {
     "duration": 0.007442,
     "end_time": "2022-08-21T16:38:10.542711",
     "exception": false,
     "start_time": "2022-08-21T16:38:10.535269",
     "status": "completed"
    },
    "tags": []
   },
   "source": [
    "curr_date = datetime.datetime.now().date()\n",
    "yest_date = curr_date - datetime.timedelta(days = 1)\n",
    "\n",
    "start_date = yest_date\n",
    "end_date = curr_date\n",
    "#q = \"mulle OR mullon OR मुल्ला OR मुल्ले OR मुल्लों OR कटवा OR कटुवा OR कटुआ OR क2आ OR क2वा OR मुल्ली OR (mulla OR mulli OR katua OR katuaa OR katuwa OR katuva OR k2a OR ktwa OR k2va)\"\n",
    "q = 'मुल्ला OR मुल्ले OR मुल्लों OR कटवा OR कटुवा OR कटुआ OR क2आ OR क2वा OR मुल्ली'"
   ]
  },
  {
   "cell_type": "code",
   "execution_count": null,
   "id": "99ff15d0",
   "metadata": {
    "_kg_hide-input": true,
    "_kg_hide-output": true,
    "papermill": {
     "duration": 0.007393,
     "end_time": "2022-08-21T16:38:10.557970",
     "exception": false,
     "start_time": "2022-08-21T16:38:10.550577",
     "status": "completed"
    },
    "tags": []
   },
   "outputs": [],
   "source": []
  },
  {
   "cell_type": "markdown",
   "id": "f1b2611e",
   "metadata": {
    "_kg_hide-input": true,
    "_kg_hide-output": true,
    "papermill": {
     "duration": 0.007415,
     "end_time": "2022-08-21T16:38:10.573239",
     "exception": false,
     "start_time": "2022-08-21T16:38:10.565824",
     "status": "completed"
    },
    "tags": []
   },
   "source": [
    "# Scrape tweets"
   ]
  },
  {
   "cell_type": "markdown",
   "id": "e584e7ee",
   "metadata": {
    "_kg_hide-input": true,
    "_kg_hide-output": true,
    "papermill": {
     "duration": 0.0092,
     "end_time": "2022-08-21T16:38:10.590146",
     "exception": false,
     "start_time": "2022-08-21T16:38:10.580946",
     "status": "completed"
    },
    "tags": []
   },
   "source": [
    "### Detect unrelated tweets"
   ]
  },
  {
   "cell_type": "markdown",
   "id": "21242e96",
   "metadata": {
    "_kg_hide-input": true,
    "_kg_hide-output": true,
    "execution": {
     "iopub.execute_input": "2022-08-21T14:06:13.583602Z",
     "iopub.status.busy": "2022-08-21T14:06:13.583162Z",
     "iopub.status.idle": "2022-08-21T14:06:14.162123Z",
     "shell.execute_reply": "2022-08-21T14:06:14.161175Z",
     "shell.execute_reply.started": "2022-08-21T14:06:13.583560Z"
    },
    "papermill": {
     "duration": 0.008859,
     "end_time": "2022-08-21T16:38:10.607263",
     "exception": false,
     "start_time": "2022-08-21T16:38:10.598404",
     "status": "completed"
    },
    "tags": []
   },
   "source": [
    "#detect_langs(\"uberfuhrer\")\n",
    "detect_langs(\" यही जीवन है साहब   \\n*कर्नाटक में वकीलों पर फू\")"
   ]
  },
  {
   "cell_type": "markdown",
   "id": "96e7924f",
   "metadata": {
    "_kg_hide-input": true,
    "_kg_hide-output": true,
    "execution": {
     "iopub.execute_input": "2022-08-21T14:06:14.164708Z",
     "iopub.status.busy": "2022-08-21T14:06:14.163923Z",
     "iopub.status.idle": "2022-08-21T14:06:14.172666Z",
     "shell.execute_reply": "2022-08-21T14:06:14.171854Z",
     "shell.execute_reply.started": "2022-08-21T14:06:14.164660Z"
    },
    "papermill": {
     "duration": 0.00766,
     "end_time": "2022-08-21T16:38:10.623033",
     "exception": false,
     "start_time": "2022-08-21T16:38:10.615373",
     "status": "completed"
    },
    "tags": []
   },
   "source": [
    "import os\n",
    "import json\n",
    "#!mkdir logs\n",
    "def write_log(logs):\n",
    "    def save(logs, fname):\n",
    "        with open(filename, \"+a\") as fp:\n",
    "            json.dump(logs, fp)    \n",
    "            fp.write(\",/n\")\n",
    "        fp.close()\n",
    "    filename = f'log.json'\n",
    "    save(logs, filename)\n",
    "    print(f\"Without TS: Log saved in {filename}.\\n\", logs)\n",
    "    \n",
    "    ts = logs['Timestamp']\n",
    "    filename = f'log_{ts}.json'\n",
    "    save(logs, filename)\n",
    "    print(f\"Log saved in {filename}.\\n\", logs)\n",
    "    \n",
    " "
   ]
  },
  {
   "cell_type": "markdown",
   "id": "3545914a",
   "metadata": {
    "_kg_hide-input": true,
    "_kg_hide-output": true,
    "execution": {
     "iopub.execute_input": "2022-08-21T14:06:14.174255Z",
     "iopub.status.busy": "2022-08-21T14:06:14.173885Z",
     "iopub.status.idle": "2022-08-21T14:06:14.186817Z",
     "shell.execute_reply": "2022-08-21T14:06:14.185754Z",
     "shell.execute_reply.started": "2022-08-21T14:06:14.174223Z"
    },
    "papermill": {
     "duration": 0.007485,
     "end_time": "2022-08-21T16:38:10.638416",
     "exception": false,
     "start_time": "2022-08-21T16:38:10.630931",
     "status": "completed"
    },
    "tags": []
   },
   "source": [
    "def verify(t):\n",
    "    \n",
    "    '''{\n",
    "    foriegn lang : 0,\n",
    "    hindi : 1,\n",
    "    query in username : 2\n",
    "    error : 3\n",
    "    }'''\n",
    "    un_list = []\n",
    "    fore = hindi = 0\n",
    "    e = 0\n",
    "    fore_langs = ['fi', 'in', 'ar', 'it']\n",
    "    usn = [\"Mulla\",\"mulla\"]\n",
    "    try:\n",
    "        lang = detect_langs(t.content)[0]\n",
    "    except:\n",
    "        return 3\n",
    "    if lang in fore_langs:\n",
    "        fore = fore+1\n",
    "        return 0\n",
    "    elif lang == 'hi':\n",
    "        hindi = hindi+1\n",
    "        return 1\n",
    "    else:\n",
    "        if t.username in usn:\n",
    "            un_list.append(t.username)\n",
    "            print(t.username)\n",
    "            return 2\n",
    "        else:\n",
    "            return 1\n",
    "    \n"
   ]
  },
  {
   "cell_type": "markdown",
   "id": "60cdd637",
   "metadata": {
    "_kg_hide-input": true,
    "_kg_hide-output": true,
    "execution": {
     "iopub.execute_input": "2022-08-21T14:06:14.188719Z",
     "iopub.status.busy": "2022-08-21T14:06:14.188238Z",
     "iopub.status.idle": "2022-08-21T14:06:14.205915Z",
     "shell.execute_reply": "2022-08-21T14:06:14.204767Z",
     "shell.execute_reply.started": "2022-08-21T14:06:14.188672Z"
    },
    "id": "VtrnzZ2uZDJb",
    "papermill": {
     "duration": 0.007469,
     "end_time": "2022-08-21T16:38:10.653747",
     "exception": false,
     "start_time": "2022-08-21T16:38:10.646278",
     "status": "completed"
    },
    "tags": []
   },
   "source": [
    "\n",
    "def get_tweets(query = \"Help needed\", limit = 50000):\n",
    "    m = n = 0\n",
    "    tweets = []\n",
    "    conf = 0\n",
    "    gen = sntwitter.TwitterSearchScraper(query).get_items()\n",
    "    for tweet in tqdm(gen, total = limit) :\n",
    "        # print(vars(tweet))\n",
    "        # break\n",
    "        if len(tweets) == limit:\n",
    "            print(f\"Limit of {limit} tweets reached.\")\n",
    "            break\n",
    "        else:\n",
    "            tweets.append(tweet)\n",
    "    print(f\"mined {len(tweets)} tweets.\")\n",
    "    return tweets\n",
    "\n",
    "def save_to_df(tweets):\n",
    "    t_list = []\n",
    "    e = h = n = m = 0\n",
    "    for t in tqdm(tweets):\n",
    "        result = verify(t)\n",
    "        '''{\n",
    "            foriegn lang : 0,\n",
    "            hindi : 1,\n",
    "            query in username : 2\n",
    "            error : 3\n",
    "            }'''\n",
    "        if result == 0:\n",
    "            n = n+1\n",
    "            pass\n",
    "        elif result == 1:\n",
    "            h = h +1\n",
    "            temp = {\n",
    "                \"ID\": t.id,\n",
    "                \"date\" : t.date,\n",
    "                \"content\" : t.content,\n",
    "                \"username\": t.username,\n",
    "                \"URL\": t.url,\n",
    "                \"outlinks\" : t.outlinks, \n",
    "                \"outlinksss\": t.outlinksss,\n",
    "                \"tcooutlinks\" : t.tcooutlinks,\n",
    "                \"tcooutlinksss\" : t.tcooutlinksss,\n",
    "                \"confident\" : 1\n",
    "            }\n",
    "            t_list.append(temp)\n",
    "        elif result == 2:\n",
    "            m = m+1\n",
    "            temp = {\n",
    "                \"ID\": t.id,\n",
    "                \"date\" : t.date,\n",
    "                \"content\" : t.content,\n",
    "                \"username\": t.username,\n",
    "                \"URL\": t.url,\n",
    "                \"outlinks\" : t.outlinks, \n",
    "                \"outlinksss\": t.outlinksss,\n",
    "                \"tcooutlinks\" : t.tcooutlinks,\n",
    "                \"tcooutlinksss\" : t.tcooutlinksss,\n",
    "                \"confident\" : 0\n",
    "            }\n",
    "            t_list.append(temp)\n",
    "        elif result == 3:\n",
    "            print(t.content)\n",
    "            e = e+1\n",
    "            pass\n",
    "\n",
    "    print(40*\"=\")\n",
    "    print(f\"detected {n} foriegn Language tweets, {h} hindi tweets, {e} errors and {m} account name matches.\")\n",
    "    print(40*\"=\")\n",
    "    \n",
    "    print(f\"Saving {len(t_list)} verified tweets.\")\n",
    "    df = pd.DataFrame(t_list)\n",
    "    return df"
   ]
  },
  {
   "cell_type": "markdown",
   "id": "6f2b18ed",
   "metadata": {
    "_kg_hide-input": true,
    "_kg_hide-output": true,
    "papermill": {
     "duration": 0.007638,
     "end_time": "2022-08-21T16:38:10.669232",
     "exception": false,
     "start_time": "2022-08-21T16:38:10.661594",
     "status": "completed"
    },
    "tags": []
   },
   "source": [
    "## Pipeline"
   ]
  },
  {
   "cell_type": "markdown",
   "id": "2fb1e77a",
   "metadata": {
    "_kg_hide-input": true,
    "_kg_hide-output": true,
    "execution": {
     "iopub.execute_input": "2022-08-21T14:06:14.208013Z",
     "iopub.status.busy": "2022-08-21T14:06:14.207564Z",
     "iopub.status.idle": "2022-08-21T14:06:14.225730Z",
     "shell.execute_reply": "2022-08-21T14:06:14.224739Z",
     "shell.execute_reply.started": "2022-08-21T14:06:14.207971Z"
    },
    "papermill": {
     "duration": 0.007498,
     "end_time": "2022-08-21T16:38:10.684402",
     "exception": false,
     "start_time": "2022-08-21T16:38:10.676904",
     "status": "completed"
    },
    "tags": []
   },
   "source": [
    "ts = datetime.datetime.now().strftime('%Y%m%d%H%M%S')\n",
    "\n",
    "def run_pipeline(query = q, lim = 50000, end_date = curr_date, start_date = yest_date, timestamp = ts):\n",
    "    #defining the query\n",
    "    query = query + f' until:{end_date} since:{start_date}'\n",
    "    \n",
    "    all_tweets = get_tweets(query, limit = lim)\n",
    "    df_hate =  save_to_df(all_tweets)\n",
    "    \n",
    "    fname = f\"output_{start_date}_{end_date}_{timestamp}.csv\"\n",
    "    df_hate.to_csv(fname)\n",
    "    print(\"Searched query:\", query)\n",
    "    print(f'mined and saved {df_hate.shape[0]} tweets in {fname} file.')\n",
    "    # log dictionary\n",
    "    logs = {\n",
    "        \"Timestamp\": datetime.datetime.now().strftime('%Y%m%d%H%M%S'),\n",
    "        \"extraction_date\" : str(curr_date),\n",
    "        \"filename\" : fname, \n",
    "        \"start_date\": str(start_date), \n",
    "        \"end_date\" : str(end_date),\n",
    "        \"no_of_tweets\" : df_hate.shape[0]\n",
    "    }\n",
    "    \n",
    "    write_log(logs)\n",
    "    return logs"
   ]
  },
  {
   "cell_type": "markdown",
   "id": "1ffef932",
   "metadata": {
    "_kg_hide-input": true,
    "_kg_hide-output": true,
    "execution": {
     "iopub.execute_input": "2022-08-21T14:06:14.227909Z",
     "iopub.status.busy": "2022-08-21T14:06:14.227536Z",
     "iopub.status.idle": "2022-08-21T14:06:23.240503Z",
     "shell.execute_reply": "2022-08-21T14:06:23.239425Z",
     "shell.execute_reply.started": "2022-08-21T14:06:14.227876Z"
    },
    "id": "7sV3U5swZgC2",
    "papermill": {
     "duration": 0.0075,
     "end_time": "2022-08-21T16:38:10.699689",
     "exception": false,
     "start_time": "2022-08-21T16:38:10.692189",
     "status": "completed"
    },
    "tags": []
   },
   "source": [
    "%%time\n",
    "logdict = run_pipeline()"
   ]
  },
  {
   "cell_type": "markdown",
   "id": "a1aff01e",
   "metadata": {
    "_kg_hide-input": true,
    "_kg_hide-output": true,
    "execution": {
     "iopub.execute_input": "2022-08-21T14:06:23.243336Z",
     "iopub.status.busy": "2022-08-21T14:06:23.242944Z",
     "iopub.status.idle": "2022-08-21T14:06:23.248659Z",
     "shell.execute_reply": "2022-08-21T14:06:23.247844Z",
     "shell.execute_reply.started": "2022-08-21T14:06:23.243287Z"
    },
    "papermill": {
     "duration": 0.007583,
     "end_time": "2022-08-21T16:38:10.715149",
     "exception": false,
     "start_time": "2022-08-21T16:38:10.707566",
     "status": "completed"
    },
    "tags": []
   },
   "source": [
    "write_log(logdict)"
   ]
  },
  {
   "cell_type": "markdown",
   "id": "6f03d4f1",
   "metadata": {
    "_kg_hide-input": true,
    "_kg_hide-output": true,
    "execution": {
     "iopub.execute_input": "2022-08-21T14:06:23.250466Z",
     "iopub.status.busy": "2022-08-21T14:06:23.249747Z",
     "iopub.status.idle": "2022-08-21T14:06:23.269260Z",
     "shell.execute_reply": "2022-08-21T14:06:23.268211Z",
     "shell.execute_reply.started": "2022-08-21T14:06:23.250427Z"
    },
    "papermill": {
     "duration": 0.00774,
     "end_time": "2022-08-21T16:38:10.730778",
     "exception": false,
     "start_time": "2022-08-21T16:38:10.723038",
     "status": "completed"
    },
    "tags": []
   },
   "source": [
    "df = pd.read_csv(logdict['filename'])"
   ]
  },
  {
   "cell_type": "markdown",
   "id": "ac009013",
   "metadata": {
    "_kg_hide-input": true,
    "_kg_hide-output": true,
    "execution": {
     "iopub.execute_input": "2022-08-21T14:06:23.271035Z",
     "iopub.status.busy": "2022-08-21T14:06:23.270710Z",
     "iopub.status.idle": "2022-08-21T14:06:23.293998Z",
     "shell.execute_reply": "2022-08-21T14:06:23.293234Z",
     "shell.execute_reply.started": "2022-08-21T14:06:23.271007Z"
    },
    "papermill": {
     "duration": 0.007673,
     "end_time": "2022-08-21T16:38:10.746220",
     "exception": false,
     "start_time": "2022-08-21T16:38:10.738547",
     "status": "completed"
    },
    "tags": []
   },
   "source": [
    "df.head(10)"
   ]
  },
  {
   "cell_type": "markdown",
   "id": "84785609",
   "metadata": {
    "_kg_hide-input": true,
    "_kg_hide-output": true,
    "execution": {
     "iopub.execute_input": "2022-08-21T14:06:23.296094Z",
     "iopub.status.busy": "2022-08-21T14:06:23.295147Z",
     "iopub.status.idle": "2022-08-21T14:06:23.307805Z",
     "shell.execute_reply": "2022-08-21T14:06:23.306875Z",
     "shell.execute_reply.started": "2022-08-21T14:06:23.296061Z"
    },
    "papermill": {
     "duration": 0.007501,
     "end_time": "2022-08-21T16:38:10.761400",
     "exception": false,
     "start_time": "2022-08-21T16:38:10.753899",
     "status": "completed"
    },
    "tags": []
   },
   "source": [
    "df.confident.unique()"
   ]
  },
  {
   "cell_type": "markdown",
   "id": "d2b014a8",
   "metadata": {
    "_kg_hide-input": true,
    "_kg_hide-output": true,
    "papermill": {
     "duration": 0.007732,
     "end_time": "2022-08-21T16:38:10.777008",
     "exception": false,
     "start_time": "2022-08-21T16:38:10.769276",
     "status": "completed"
    },
    "tags": []
   },
   "source": [
    "# Check logs"
   ]
  },
  {
   "cell_type": "markdown",
   "id": "112e0048",
   "metadata": {
    "_kg_hide-input": true,
    "_kg_hide-output": true,
    "execution": {
     "iopub.execute_input": "2022-08-21T14:06:23.310367Z",
     "iopub.status.busy": "2022-08-21T14:06:23.309047Z",
     "iopub.status.idle": "2022-08-21T14:06:24.443271Z",
     "shell.execute_reply": "2022-08-21T14:06:24.442175Z",
     "shell.execute_reply.started": "2022-08-21T14:06:23.310295Z"
    },
    "papermill": {
     "duration": 0.007418,
     "end_time": "2022-08-21T16:38:10.792350",
     "exception": false,
     "start_time": "2022-08-21T16:38:10.784932",
     "status": "completed"
    },
    "tags": []
   },
   "source": [
    "!ls"
   ]
  }
 ],
 "metadata": {
  "kernelspec": {
   "display_name": "Python 3",
   "language": "python",
   "name": "python3"
  },
  "language_info": {
   "codemirror_mode": {
    "name": "ipython",
    "version": 3
   },
   "file_extension": ".py",
   "mimetype": "text/x-python",
   "name": "python",
   "nbconvert_exporter": "python",
   "pygments_lexer": "ipython3",
   "version": "3.7.12"
  },
  "papermill": {
   "default_parameters": {},
   "duration": 47.855675,
   "end_time": "2022-08-21T16:38:11.722817",
   "environment_variables": {},
   "exception": null,
   "input_path": "__notebook__.ipynb",
   "output_path": "__notebook__.ipynb",
   "parameters": {},
   "start_time": "2022-08-21T16:37:23.867142",
   "version": "2.3.4"
  },
  "widgets": {
   "application/vnd.jupyter.widget-state+json": {
    "state": {
     "0149ffe2eba84a4ea843c7f855abd65d": {
      "model_module": "@jupyter-widgets/controls",
      "model_module_version": "1.5.0",
      "model_name": "FloatProgressModel",
      "state": {
       "_dom_classes": [],
       "_model_module": "@jupyter-widgets/controls",
       "_model_module_version": "1.5.0",
       "_model_name": "FloatProgressModel",
       "_view_count": null,
       "_view_module": "@jupyter-widgets/controls",
       "_view_module_version": "1.5.0",
       "_view_name": "ProgressView",
       "bar_style": "danger",
       "description": "",
       "description_tooltip": null,
       "layout": "IPY_MODEL_e9ed8507b6e2482c8ff5ffaf5cbc3e74",
       "max": 50000.0,
       "min": 0.0,
       "orientation": "horizontal",
       "style": "IPY_MODEL_f4cf6e0d986a486ea18ddde8e2141b02",
       "value": 335.0
      }
     },
     "0392145808394eae8a964633c445e3af": {
      "model_module": "@jupyter-widgets/controls",
      "model_module_version": "1.5.0",
      "model_name": "HBoxModel",
      "state": {
       "_dom_classes": [],
       "_model_module": "@jupyter-widgets/controls",
       "_model_module_version": "1.5.0",
       "_model_name": "HBoxModel",
       "_view_count": null,
       "_view_module": "@jupyter-widgets/controls",
       "_view_module_version": "1.5.0",
       "_view_name": "HBoxView",
       "box_style": "",
       "children": [
        "IPY_MODEL_267c49ebf2ff48c5b8918b166b18e37f",
        "IPY_MODEL_0149ffe2eba84a4ea843c7f855abd65d",
        "IPY_MODEL_4ab834ef9ff6447fb2e2ebd59c9a8541"
       ],
       "layout": "IPY_MODEL_d7ddd52226944d16ae825883492b8adc"
      }
     },
     "267c49ebf2ff48c5b8918b166b18e37f": {
      "model_module": "@jupyter-widgets/controls",
      "model_module_version": "1.5.0",
      "model_name": "HTMLModel",
      "state": {
       "_dom_classes": [],
       "_model_module": "@jupyter-widgets/controls",
       "_model_module_version": "1.5.0",
       "_model_name": "HTMLModel",
       "_view_count": null,
       "_view_module": "@jupyter-widgets/controls",
       "_view_module_version": "1.5.0",
       "_view_name": "HTMLView",
       "description": "",
       "description_tooltip": null,
       "layout": "IPY_MODEL_4f65d6f36aad42e5b74b5ac69b19a049",
       "placeholder": "​",
       "style": "IPY_MODEL_8b5c813826954a379efa48773b662003",
       "value": "  1%"
      }
     },
     "4ab834ef9ff6447fb2e2ebd59c9a8541": {
      "model_module": "@jupyter-widgets/controls",
      "model_module_version": "1.5.0",
      "model_name": "HTMLModel",
      "state": {
       "_dom_classes": [],
       "_model_module": "@jupyter-widgets/controls",
       "_model_module_version": "1.5.0",
       "_model_name": "HTMLModel",
       "_view_count": null,
       "_view_module": "@jupyter-widgets/controls",
       "_view_module_version": "1.5.0",
       "_view_name": "HTMLView",
       "description": "",
       "description_tooltip": null,
       "layout": "IPY_MODEL_d2c1dec4f9fe444d84ed01e73a7b0652",
       "placeholder": "​",
       "style": "IPY_MODEL_767afc39ab71423791f0420163be70fc",
       "value": " 335/50000 [00:06&lt;11:10, 74.05it/s]"
      }
     },
     "4f65d6f36aad42e5b74b5ac69b19a049": {
      "model_module": "@jupyter-widgets/base",
      "model_module_version": "1.2.0",
      "model_name": "LayoutModel",
      "state": {
       "_model_module": "@jupyter-widgets/base",
       "_model_module_version": "1.2.0",
       "_model_name": "LayoutModel",
       "_view_count": null,
       "_view_module": "@jupyter-widgets/base",
       "_view_module_version": "1.2.0",
       "_view_name": "LayoutView",
       "align_content": null,
       "align_items": null,
       "align_self": null,
       "border": null,
       "bottom": null,
       "display": null,
       "flex": null,
       "flex_flow": null,
       "grid_area": null,
       "grid_auto_columns": null,
       "grid_auto_flow": null,
       "grid_auto_rows": null,
       "grid_column": null,
       "grid_gap": null,
       "grid_row": null,
       "grid_template_areas": null,
       "grid_template_columns": null,
       "grid_template_rows": null,
       "height": null,
       "justify_content": null,
       "justify_items": null,
       "left": null,
       "margin": null,
       "max_height": null,
       "max_width": null,
       "min_height": null,
       "min_width": null,
       "object_fit": null,
       "object_position": null,
       "order": null,
       "overflow": null,
       "overflow_x": null,
       "overflow_y": null,
       "padding": null,
       "right": null,
       "top": null,
       "visibility": null,
       "width": null
      }
     },
     "767afc39ab71423791f0420163be70fc": {
      "model_module": "@jupyter-widgets/controls",
      "model_module_version": "1.5.0",
      "model_name": "DescriptionStyleModel",
      "state": {
       "_model_module": "@jupyter-widgets/controls",
       "_model_module_version": "1.5.0",
       "_model_name": "DescriptionStyleModel",
       "_view_count": null,
       "_view_module": "@jupyter-widgets/base",
       "_view_module_version": "1.2.0",
       "_view_name": "StyleView",
       "description_width": ""
      }
     },
     "8b5c813826954a379efa48773b662003": {
      "model_module": "@jupyter-widgets/controls",
      "model_module_version": "1.5.0",
      "model_name": "DescriptionStyleModel",
      "state": {
       "_model_module": "@jupyter-widgets/controls",
       "_model_module_version": "1.5.0",
       "_model_name": "DescriptionStyleModel",
       "_view_count": null,
       "_view_module": "@jupyter-widgets/base",
       "_view_module_version": "1.2.0",
       "_view_name": "StyleView",
       "description_width": ""
      }
     },
     "d2c1dec4f9fe444d84ed01e73a7b0652": {
      "model_module": "@jupyter-widgets/base",
      "model_module_version": "1.2.0",
      "model_name": "LayoutModel",
      "state": {
       "_model_module": "@jupyter-widgets/base",
       "_model_module_version": "1.2.0",
       "_model_name": "LayoutModel",
       "_view_count": null,
       "_view_module": "@jupyter-widgets/base",
       "_view_module_version": "1.2.0",
       "_view_name": "LayoutView",
       "align_content": null,
       "align_items": null,
       "align_self": null,
       "border": null,
       "bottom": null,
       "display": null,
       "flex": null,
       "flex_flow": null,
       "grid_area": null,
       "grid_auto_columns": null,
       "grid_auto_flow": null,
       "grid_auto_rows": null,
       "grid_column": null,
       "grid_gap": null,
       "grid_row": null,
       "grid_template_areas": null,
       "grid_template_columns": null,
       "grid_template_rows": null,
       "height": null,
       "justify_content": null,
       "justify_items": null,
       "left": null,
       "margin": null,
       "max_height": null,
       "max_width": null,
       "min_height": null,
       "min_width": null,
       "object_fit": null,
       "object_position": null,
       "order": null,
       "overflow": null,
       "overflow_x": null,
       "overflow_y": null,
       "padding": null,
       "right": null,
       "top": null,
       "visibility": null,
       "width": null
      }
     },
     "d7ddd52226944d16ae825883492b8adc": {
      "model_module": "@jupyter-widgets/base",
      "model_module_version": "1.2.0",
      "model_name": "LayoutModel",
      "state": {
       "_model_module": "@jupyter-widgets/base",
       "_model_module_version": "1.2.0",
       "_model_name": "LayoutModel",
       "_view_count": null,
       "_view_module": "@jupyter-widgets/base",
       "_view_module_version": "1.2.0",
       "_view_name": "LayoutView",
       "align_content": null,
       "align_items": null,
       "align_self": null,
       "border": null,
       "bottom": null,
       "display": null,
       "flex": null,
       "flex_flow": null,
       "grid_area": null,
       "grid_auto_columns": null,
       "grid_auto_flow": null,
       "grid_auto_rows": null,
       "grid_column": null,
       "grid_gap": null,
       "grid_row": null,
       "grid_template_areas": null,
       "grid_template_columns": null,
       "grid_template_rows": null,
       "height": null,
       "justify_content": null,
       "justify_items": null,
       "left": null,
       "margin": null,
       "max_height": null,
       "max_width": null,
       "min_height": null,
       "min_width": null,
       "object_fit": null,
       "object_position": null,
       "order": null,
       "overflow": null,
       "overflow_x": null,
       "overflow_y": null,
       "padding": null,
       "right": null,
       "top": null,
       "visibility": null,
       "width": null
      }
     },
     "e9ed8507b6e2482c8ff5ffaf5cbc3e74": {
      "model_module": "@jupyter-widgets/base",
      "model_module_version": "1.2.0",
      "model_name": "LayoutModel",
      "state": {
       "_model_module": "@jupyter-widgets/base",
       "_model_module_version": "1.2.0",
       "_model_name": "LayoutModel",
       "_view_count": null,
       "_view_module": "@jupyter-widgets/base",
       "_view_module_version": "1.2.0",
       "_view_name": "LayoutView",
       "align_content": null,
       "align_items": null,
       "align_self": null,
       "border": null,
       "bottom": null,
       "display": null,
       "flex": null,
       "flex_flow": null,
       "grid_area": null,
       "grid_auto_columns": null,
       "grid_auto_flow": null,
       "grid_auto_rows": null,
       "grid_column": null,
       "grid_gap": null,
       "grid_row": null,
       "grid_template_areas": null,
       "grid_template_columns": null,
       "grid_template_rows": null,
       "height": null,
       "justify_content": null,
       "justify_items": null,
       "left": null,
       "margin": null,
       "max_height": null,
       "max_width": null,
       "min_height": null,
       "min_width": null,
       "object_fit": null,
       "object_position": null,
       "order": null,
       "overflow": null,
       "overflow_x": null,
       "overflow_y": null,
       "padding": null,
       "right": null,
       "top": null,
       "visibility": null,
       "width": null
      }
     },
     "f4cf6e0d986a486ea18ddde8e2141b02": {
      "model_module": "@jupyter-widgets/controls",
      "model_module_version": "1.5.0",
      "model_name": "ProgressStyleModel",
      "state": {
       "_model_module": "@jupyter-widgets/controls",
       "_model_module_version": "1.5.0",
       "_model_name": "ProgressStyleModel",
       "_view_count": null,
       "_view_module": "@jupyter-widgets/base",
       "_view_module_version": "1.2.0",
       "_view_name": "StyleView",
       "bar_color": null,
       "description_width": ""
      }
     }
    },
    "version_major": 2,
    "version_minor": 0
   }
  }
 },
 "nbformat": 4,
 "nbformat_minor": 5
}
